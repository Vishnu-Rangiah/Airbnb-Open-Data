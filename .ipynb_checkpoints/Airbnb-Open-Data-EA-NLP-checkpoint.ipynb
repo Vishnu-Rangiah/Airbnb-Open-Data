{
 "cells": [
  {
   "cell_type": "markdown",
   "metadata": {},
   "source": [
    "## New York City Airbnb Open Data - Exploratory Analysis and NLP"
   ]
  },
  {
   "cell_type": "markdown",
   "metadata": {},
   "source": [
    "#### UC Davis | STA160 Group 7 | Midterm Project\n",
    "\n",
    "- Vishnu Rangiah, 916562849, vrrangiah@ucdavis.edu\n",
    "- Aditya Kallepalli, 915079375, arkallepalli@ucdavis.edu\n",
    "- Rishi Bhuva, 915218518, rdbhuva@ucdavis.edu\n",
    "- Ivan Yang, 915463046, igyang@ucdavis.edu"
   ]
  },
  {
   "cell_type": "markdown",
   "metadata": {},
   "source": [
    "### Introduction\n",
    "\n",
    "Airbnb is a platform that operates an online marketplace for lodging, primarily homestays for vacation rentals, and tourism activities. This platform is accessible through website or mobile app. \n",
    "\n",
    "In this report we will be analyzing Airbnb data from the Airbnb Open Data New York City 2019 data set. \n",
    "The data we are currently analyzing comes from : https://www.kaggle.com/dgomonov/new-york-city-airbnb-open-data\n",
    "This dataset describes listing activity and metrics in New York City, New York for 2019. Through this dataset, we can get information regarding hosts, geographical availability and necessary metrics needed to make predictions and draw conclusions. \n",
    "\n",
    "We will be performing our analysis using Python. In Section 1, we will be cleaning, and preforming exploratory analysis on the data. Then we will explore the relationship between the names of each listing and the popularity of the listing using Natural Language Processing Methods in Section 2.\n",
    "\n",
    "[//]: # (We will be cleaning, and preforming exploratory analysis on the data. \n",
    "Then we will explore the realtionship between the Names of each listing and the popularity of the listing using Natural Language Processing Methods.)\n",
    "\n",
    "\n",
    "**NEXT STEPS: EDA, NLP, CONCLUSION**"
   ]
  },
  {
   "cell_type": "markdown",
   "metadata": {},
   "source": [
    "### Importing Libraries "
   ]
  },
  {
   "cell_type": "code",
   "execution_count": 3,
   "metadata": {},
   "outputs": [],
   "source": [
    "# importing packages\n",
    "\n",
    "# data manipulation\n",
    "import pandas as pd\n",
    "import numpy as np\n",
    "\n",
    "# visualisation\n",
    "import matplotlib.pyplot as plt\n",
    "import seaborn as sns\n",
    "import plotly.offline as py\n",
    "import plotly.express as px\n",
    "\n",
    "# string manipulation\n",
    "import re\n",
    "import more_itertools as more\n",
    "import string"
   ]
  },
  {
   "cell_type": "markdown",
   "metadata": {},
   "source": [
    "### Loading Database"
   ]
  },
  {
   "cell_type": "code",
   "execution_count": 4,
   "metadata": {
    "scrolled": false
   },
   "outputs": [
    {
     "data": {
      "text/html": [
       "<div>\n",
       "<style scoped>\n",
       "    .dataframe tbody tr th:only-of-type {\n",
       "        vertical-align: middle;\n",
       "    }\n",
       "\n",
       "    .dataframe tbody tr th {\n",
       "        vertical-align: top;\n",
       "    }\n",
       "\n",
       "    .dataframe thead th {\n",
       "        text-align: right;\n",
       "    }\n",
       "</style>\n",
       "<table border=\"1\" class=\"dataframe\">\n",
       "  <thead>\n",
       "    <tr style=\"text-align: right;\">\n",
       "      <th></th>\n",
       "      <th>id</th>\n",
       "      <th>name</th>\n",
       "      <th>host_id</th>\n",
       "      <th>host_name</th>\n",
       "      <th>neighbourhood_group</th>\n",
       "      <th>neighbourhood</th>\n",
       "      <th>latitude</th>\n",
       "      <th>longitude</th>\n",
       "      <th>room_type</th>\n",
       "      <th>price</th>\n",
       "      <th>minimum_nights</th>\n",
       "      <th>number_of_reviews</th>\n",
       "      <th>last_review</th>\n",
       "      <th>reviews_per_month</th>\n",
       "      <th>calculated_host_listings_count</th>\n",
       "      <th>availability_365</th>\n",
       "    </tr>\n",
       "  </thead>\n",
       "  <tbody>\n",
       "    <tr>\n",
       "      <th>0</th>\n",
       "      <td>2539</td>\n",
       "      <td>Clean &amp; quiet apt home by the park</td>\n",
       "      <td>2787</td>\n",
       "      <td>John</td>\n",
       "      <td>Brooklyn</td>\n",
       "      <td>Kensington</td>\n",
       "      <td>40.64749</td>\n",
       "      <td>-73.97237</td>\n",
       "      <td>Private room</td>\n",
       "      <td>149</td>\n",
       "      <td>1</td>\n",
       "      <td>9</td>\n",
       "      <td>2018-10-19</td>\n",
       "      <td>0.21</td>\n",
       "      <td>6</td>\n",
       "      <td>365</td>\n",
       "    </tr>\n",
       "    <tr>\n",
       "      <th>1</th>\n",
       "      <td>2595</td>\n",
       "      <td>Skylit Midtown Castle</td>\n",
       "      <td>2845</td>\n",
       "      <td>Jennifer</td>\n",
       "      <td>Manhattan</td>\n",
       "      <td>Midtown</td>\n",
       "      <td>40.75362</td>\n",
       "      <td>-73.98377</td>\n",
       "      <td>Entire home/apt</td>\n",
       "      <td>225</td>\n",
       "      <td>1</td>\n",
       "      <td>45</td>\n",
       "      <td>2019-05-21</td>\n",
       "      <td>0.38</td>\n",
       "      <td>2</td>\n",
       "      <td>355</td>\n",
       "    </tr>\n",
       "    <tr>\n",
       "      <th>2</th>\n",
       "      <td>3647</td>\n",
       "      <td>THE VILLAGE OF HARLEM....NEW YORK !</td>\n",
       "      <td>4632</td>\n",
       "      <td>Elisabeth</td>\n",
       "      <td>Manhattan</td>\n",
       "      <td>Harlem</td>\n",
       "      <td>40.80902</td>\n",
       "      <td>-73.94190</td>\n",
       "      <td>Private room</td>\n",
       "      <td>150</td>\n",
       "      <td>3</td>\n",
       "      <td>0</td>\n",
       "      <td>NaN</td>\n",
       "      <td>NaN</td>\n",
       "      <td>1</td>\n",
       "      <td>365</td>\n",
       "    </tr>\n",
       "    <tr>\n",
       "      <th>3</th>\n",
       "      <td>3831</td>\n",
       "      <td>Cozy Entire Floor of Brownstone</td>\n",
       "      <td>4869</td>\n",
       "      <td>LisaRoxanne</td>\n",
       "      <td>Brooklyn</td>\n",
       "      <td>Clinton Hill</td>\n",
       "      <td>40.68514</td>\n",
       "      <td>-73.95976</td>\n",
       "      <td>Entire home/apt</td>\n",
       "      <td>89</td>\n",
       "      <td>1</td>\n",
       "      <td>270</td>\n",
       "      <td>2019-07-05</td>\n",
       "      <td>4.64</td>\n",
       "      <td>1</td>\n",
       "      <td>194</td>\n",
       "    </tr>\n",
       "    <tr>\n",
       "      <th>4</th>\n",
       "      <td>5022</td>\n",
       "      <td>Entire Apt: Spacious Studio/Loft by central park</td>\n",
       "      <td>7192</td>\n",
       "      <td>Laura</td>\n",
       "      <td>Manhattan</td>\n",
       "      <td>East Harlem</td>\n",
       "      <td>40.79851</td>\n",
       "      <td>-73.94399</td>\n",
       "      <td>Entire home/apt</td>\n",
       "      <td>80</td>\n",
       "      <td>10</td>\n",
       "      <td>9</td>\n",
       "      <td>2018-11-19</td>\n",
       "      <td>0.10</td>\n",
       "      <td>1</td>\n",
       "      <td>0</td>\n",
       "    </tr>\n",
       "  </tbody>\n",
       "</table>\n",
       "</div>"
      ],
      "text/plain": [
       "     id                                              name  host_id  \\\n",
       "0  2539                Clean & quiet apt home by the park     2787   \n",
       "1  2595                             Skylit Midtown Castle     2845   \n",
       "2  3647               THE VILLAGE OF HARLEM....NEW YORK !     4632   \n",
       "3  3831                   Cozy Entire Floor of Brownstone     4869   \n",
       "4  5022  Entire Apt: Spacious Studio/Loft by central park     7192   \n",
       "\n",
       "     host_name neighbourhood_group neighbourhood  latitude  longitude  \\\n",
       "0         John            Brooklyn    Kensington  40.64749  -73.97237   \n",
       "1     Jennifer           Manhattan       Midtown  40.75362  -73.98377   \n",
       "2    Elisabeth           Manhattan        Harlem  40.80902  -73.94190   \n",
       "3  LisaRoxanne            Brooklyn  Clinton Hill  40.68514  -73.95976   \n",
       "4        Laura           Manhattan   East Harlem  40.79851  -73.94399   \n",
       "\n",
       "         room_type  price  minimum_nights  number_of_reviews last_review  \\\n",
       "0     Private room    149               1                  9  2018-10-19   \n",
       "1  Entire home/apt    225               1                 45  2019-05-21   \n",
       "2     Private room    150               3                  0         NaN   \n",
       "3  Entire home/apt     89               1                270  2019-07-05   \n",
       "4  Entire home/apt     80              10                  9  2018-11-19   \n",
       "\n",
       "   reviews_per_month  calculated_host_listings_count  availability_365  \n",
       "0               0.21                               6               365  \n",
       "1               0.38                               2               355  \n",
       "2                NaN                               1               365  \n",
       "3               4.64                               1               194  \n",
       "4               0.10                               1                 0  "
      ]
     },
     "execution_count": 4,
     "metadata": {},
     "output_type": "execute_result"
    }
   ],
   "source": [
    "df = pd.read_csv(\"datasets/AB_NYC_2019.csv\")\n",
    "df.head()"
   ]
  },
  {
   "cell_type": "code",
   "execution_count": 3,
   "metadata": {},
   "outputs": [
    {
     "data": {
      "text/plain": [
       "id                                  int64\n",
       "name                               object\n",
       "host_id                             int64\n",
       "host_name                          object\n",
       "neighbourhood_group                object\n",
       "neighbourhood                      object\n",
       "latitude                          float64\n",
       "longitude                         float64\n",
       "room_type                          object\n",
       "price                               int64\n",
       "minimum_nights                      int64\n",
       "number_of_reviews                   int64\n",
       "last_review                        object\n",
       "reviews_per_month                 float64\n",
       "calculated_host_listings_count      int64\n",
       "availability_365                    int64\n",
       "dtype: object"
      ]
     },
     "execution_count": 3,
     "metadata": {},
     "output_type": "execute_result"
    }
   ],
   "source": [
    "# columns and data types\n",
    "df.dtypes"
   ]
  },
  {
   "cell_type": "markdown",
   "metadata": {},
   "source": [
    "Here we find that our dataset contains 48,895 rows which represent individual listings in New York. We are also provided with 16 different columns which contain necessary factors needed for exploratory data analysis. "
   ]
  },
  {
   "cell_type": "markdown",
   "metadata": {},
   "source": [
    "### Summary Statistics"
   ]
  },
  {
   "cell_type": "code",
   "execution_count": 4,
   "metadata": {
    "scrolled": true
   },
   "outputs": [
    {
     "data": {
      "text/html": [
       "<div>\n",
       "<style scoped>\n",
       "    .dataframe tbody tr th:only-of-type {\n",
       "        vertical-align: middle;\n",
       "    }\n",
       "\n",
       "    .dataframe tbody tr th {\n",
       "        vertical-align: top;\n",
       "    }\n",
       "\n",
       "    .dataframe thead th {\n",
       "        text-align: right;\n",
       "    }\n",
       "</style>\n",
       "<table border=\"1\" class=\"dataframe\">\n",
       "  <thead>\n",
       "    <tr style=\"text-align: right;\">\n",
       "      <th></th>\n",
       "      <th>latitude</th>\n",
       "      <th>longitude</th>\n",
       "      <th>price</th>\n",
       "      <th>minimum_nights</th>\n",
       "      <th>number_of_reviews</th>\n",
       "      <th>reviews_per_month</th>\n",
       "      <th>calculated_host_listings_count</th>\n",
       "      <th>availability_365</th>\n",
       "    </tr>\n",
       "  </thead>\n",
       "  <tbody>\n",
       "    <tr>\n",
       "      <th>count</th>\n",
       "      <td>48895.000000</td>\n",
       "      <td>48895.000000</td>\n",
       "      <td>48895.000000</td>\n",
       "      <td>48895.000000</td>\n",
       "      <td>48895.000000</td>\n",
       "      <td>38843.000000</td>\n",
       "      <td>48895.000000</td>\n",
       "      <td>48895.000000</td>\n",
       "    </tr>\n",
       "    <tr>\n",
       "      <th>mean</th>\n",
       "      <td>40.728949</td>\n",
       "      <td>-73.952170</td>\n",
       "      <td>152.720687</td>\n",
       "      <td>7.029962</td>\n",
       "      <td>23.274466</td>\n",
       "      <td>1.373221</td>\n",
       "      <td>7.143982</td>\n",
       "      <td>112.781327</td>\n",
       "    </tr>\n",
       "    <tr>\n",
       "      <th>std</th>\n",
       "      <td>0.054530</td>\n",
       "      <td>0.046157</td>\n",
       "      <td>240.154170</td>\n",
       "      <td>20.510550</td>\n",
       "      <td>44.550582</td>\n",
       "      <td>1.680442</td>\n",
       "      <td>32.952519</td>\n",
       "      <td>131.622289</td>\n",
       "    </tr>\n",
       "    <tr>\n",
       "      <th>min</th>\n",
       "      <td>40.499790</td>\n",
       "      <td>-74.244420</td>\n",
       "      <td>0.000000</td>\n",
       "      <td>1.000000</td>\n",
       "      <td>0.000000</td>\n",
       "      <td>0.010000</td>\n",
       "      <td>1.000000</td>\n",
       "      <td>0.000000</td>\n",
       "    </tr>\n",
       "    <tr>\n",
       "      <th>25%</th>\n",
       "      <td>40.690100</td>\n",
       "      <td>-73.983070</td>\n",
       "      <td>69.000000</td>\n",
       "      <td>1.000000</td>\n",
       "      <td>1.000000</td>\n",
       "      <td>0.190000</td>\n",
       "      <td>1.000000</td>\n",
       "      <td>0.000000</td>\n",
       "    </tr>\n",
       "    <tr>\n",
       "      <th>50%</th>\n",
       "      <td>40.723070</td>\n",
       "      <td>-73.955680</td>\n",
       "      <td>106.000000</td>\n",
       "      <td>3.000000</td>\n",
       "      <td>5.000000</td>\n",
       "      <td>0.720000</td>\n",
       "      <td>1.000000</td>\n",
       "      <td>45.000000</td>\n",
       "    </tr>\n",
       "    <tr>\n",
       "      <th>75%</th>\n",
       "      <td>40.763115</td>\n",
       "      <td>-73.936275</td>\n",
       "      <td>175.000000</td>\n",
       "      <td>5.000000</td>\n",
       "      <td>24.000000</td>\n",
       "      <td>2.020000</td>\n",
       "      <td>2.000000</td>\n",
       "      <td>227.000000</td>\n",
       "    </tr>\n",
       "    <tr>\n",
       "      <th>max</th>\n",
       "      <td>40.913060</td>\n",
       "      <td>-73.712990</td>\n",
       "      <td>10000.000000</td>\n",
       "      <td>1250.000000</td>\n",
       "      <td>629.000000</td>\n",
       "      <td>58.500000</td>\n",
       "      <td>327.000000</td>\n",
       "      <td>365.000000</td>\n",
       "    </tr>\n",
       "  </tbody>\n",
       "</table>\n",
       "</div>"
      ],
      "text/plain": [
       "           latitude     longitude         price  minimum_nights  \\\n",
       "count  48895.000000  48895.000000  48895.000000    48895.000000   \n",
       "mean      40.728949    -73.952170    152.720687        7.029962   \n",
       "std        0.054530      0.046157    240.154170       20.510550   \n",
       "min       40.499790    -74.244420      0.000000        1.000000   \n",
       "25%       40.690100    -73.983070     69.000000        1.000000   \n",
       "50%       40.723070    -73.955680    106.000000        3.000000   \n",
       "75%       40.763115    -73.936275    175.000000        5.000000   \n",
       "max       40.913060    -73.712990  10000.000000     1250.000000   \n",
       "\n",
       "       number_of_reviews  reviews_per_month  calculated_host_listings_count  \\\n",
       "count       48895.000000       38843.000000                    48895.000000   \n",
       "mean           23.274466           1.373221                        7.143982   \n",
       "std            44.550582           1.680442                       32.952519   \n",
       "min             0.000000           0.010000                        1.000000   \n",
       "25%             1.000000           0.190000                        1.000000   \n",
       "50%             5.000000           0.720000                        1.000000   \n",
       "75%            24.000000           2.020000                        2.000000   \n",
       "max           629.000000          58.500000                      327.000000   \n",
       "\n",
       "       availability_365  \n",
       "count      48895.000000  \n",
       "mean         112.781327  \n",
       "std          131.622289  \n",
       "min            0.000000  \n",
       "25%            0.000000  \n",
       "50%           45.000000  \n",
       "75%          227.000000  \n",
       "max          365.000000  "
      ]
     },
     "execution_count": 4,
     "metadata": {},
     "output_type": "execute_result"
    }
   ],
   "source": [
    "df.describe().iloc[:,2:]"
   ]
  },
  {
   "cell_type": "markdown",
   "metadata": {},
   "source": [
    "From the summary statistics of our dataset we find that the max *price* an individual listing seems abnormally high at $10,000 which is supposed to indicate the nightly cost of the airbnb listing. Another observation is that the max *availability_365* or availability in the calendar year is all 365 days. We will further inspect these listings when performing data cleaning and try to deduce the reason for these seemingly abnormal values. \n",
    "\n",
    "*Note*: We have chosen to omit *id* and *host_id* from the summary statistics because they do not provide insights. "
   ]
  },
  {
   "cell_type": "markdown",
   "metadata": {},
   "source": [
    "### Data Cleaning  \n",
    "\n",
    "#### Outline of Data Cleaning\n",
    "\n",
    "The following outlines our data cleaning process and key information about metrics which were provided in the documentation of the Open Airbnb dataset.\n",
    "\n",
    "1. Find outliers \n",
    "    - Find potential negative and NA values \n",
    "2. Get rid of listing that are too expensive \n",
    "    - Why is the *price* so high?: The super bowl took place in NYC and listings were priced higher by hosts due to the increase in demand.\n",
    "3. Get rid of listing that have zero *avalibility_365* (availability) for 2019\n",
    "    - *avaliblity_365* :  number of days the property is available for rent \n",
    "    - The Airbnb calendar for a listing does not differentiate between a booked night vs an unavailable night, therefore these bookings have been counted as \"unavailable\". This serves to understate the availability metric because popular listings will be \"booked\" rather than being \"blacked out\" by a host.\n",
    "    - Data shows a lot of properties of 0 days available \n",
    "        - Why was it 0?: \n",
    "            - The host did not want to rent or host took off listing but it was still on the website \n",
    "            - Airbnb suspended the listing          \n",
    "4. Get rid of listing that have zero *number_of_reviews*"
   ]
  },
  {
   "cell_type": "code",
   "execution_count": 44,
   "metadata": {
    "scrolled": true
   },
   "outputs": [
    {
     "data": {
      "text/plain": [
       "host_name                         7\n",
       "name                              2\n",
       "availability_365                  0\n",
       "calculated_host_listings_count    0\n",
       "reviews_per_month                 0\n",
       "last_review                       0\n",
       "number_of_reviews                 0\n",
       "minimum_nights                    0\n",
       "price                             0\n",
       "room_type                         0\n",
       "longitude                         0\n",
       "latitude                          0\n",
       "neighbourhood                     0\n",
       "neighbourhood_group               0\n",
       "host_id                           0\n",
       "id                                0\n",
       "dtype: int64"
      ]
     },
     "execution_count": 44,
     "metadata": {},
     "output_type": "execute_result"
    }
   ],
   "source": [
    "# Outliers\n",
    "# checking for null values\n",
    "df.isnull().sum().sort_values(ascending=False) "
   ]
  },
  {
   "cell_type": "markdown",
   "metadata": {},
   "source": [
    "There are **missing values** in the *name*, *host_name*, *last_review*, and *reviews_per_month* columns. We have reasoned that our analysis is not affected by these metrics having null values thus, we have decided to keep these listings in out dataset."
   ]
  },
  {
   "cell_type": "code",
   "execution_count": 17,
   "metadata": {
    "scrolled": true
   },
   "outputs": [
    {
     "data": {
      "text/html": [
       "<div>\n",
       "<style scoped>\n",
       "    .dataframe tbody tr th:only-of-type {\n",
       "        vertical-align: middle;\n",
       "    }\n",
       "\n",
       "    .dataframe tbody tr th {\n",
       "        vertical-align: top;\n",
       "    }\n",
       "\n",
       "    .dataframe thead th {\n",
       "        text-align: right;\n",
       "    }\n",
       "</style>\n",
       "<table border=\"1\" class=\"dataframe\">\n",
       "  <thead>\n",
       "    <tr style=\"text-align: right;\">\n",
       "      <th></th>\n",
       "      <th>id</th>\n",
       "      <th>name</th>\n",
       "      <th>host_id</th>\n",
       "      <th>host_name</th>\n",
       "      <th>neighbourhood_group</th>\n",
       "      <th>neighbourhood</th>\n",
       "      <th>latitude</th>\n",
       "      <th>longitude</th>\n",
       "      <th>room_type</th>\n",
       "      <th>price</th>\n",
       "      <th>minimum_nights</th>\n",
       "      <th>number_of_reviews</th>\n",
       "      <th>last_review</th>\n",
       "      <th>reviews_per_month</th>\n",
       "      <th>calculated_host_listings_count</th>\n",
       "      <th>availability_365</th>\n",
       "    </tr>\n",
       "  </thead>\n",
       "  <tbody>\n",
       "    <tr>\n",
       "      <th>4</th>\n",
       "      <td>5022</td>\n",
       "      <td>Entire Apt: Spacious Studio/Loft by central park</td>\n",
       "      <td>7192</td>\n",
       "      <td>Laura</td>\n",
       "      <td>Manhattan</td>\n",
       "      <td>East Harlem</td>\n",
       "      <td>40.79851</td>\n",
       "      <td>-73.94399</td>\n",
       "      <td>Entire home/apt</td>\n",
       "      <td>80</td>\n",
       "      <td>10</td>\n",
       "      <td>9</td>\n",
       "      <td>2018-11-19</td>\n",
       "      <td>0.10</td>\n",
       "      <td>1</td>\n",
       "      <td>0</td>\n",
       "    </tr>\n",
       "    <tr>\n",
       "      <th>6</th>\n",
       "      <td>5121</td>\n",
       "      <td>BlissArtsSpace!</td>\n",
       "      <td>7356</td>\n",
       "      <td>Garon</td>\n",
       "      <td>Brooklyn</td>\n",
       "      <td>Bedford-Stuyvesant</td>\n",
       "      <td>40.68688</td>\n",
       "      <td>-73.95596</td>\n",
       "      <td>Private room</td>\n",
       "      <td>60</td>\n",
       "      <td>45</td>\n",
       "      <td>49</td>\n",
       "      <td>2017-10-05</td>\n",
       "      <td>0.40</td>\n",
       "      <td>1</td>\n",
       "      <td>0</td>\n",
       "    </tr>\n",
       "    <tr>\n",
       "      <th>8</th>\n",
       "      <td>5203</td>\n",
       "      <td>Cozy Clean Guest Room - Family Apt</td>\n",
       "      <td>7490</td>\n",
       "      <td>MaryEllen</td>\n",
       "      <td>Manhattan</td>\n",
       "      <td>Upper West Side</td>\n",
       "      <td>40.80178</td>\n",
       "      <td>-73.96723</td>\n",
       "      <td>Private room</td>\n",
       "      <td>79</td>\n",
       "      <td>2</td>\n",
       "      <td>118</td>\n",
       "      <td>2017-07-21</td>\n",
       "      <td>0.99</td>\n",
       "      <td>1</td>\n",
       "      <td>0</td>\n",
       "    </tr>\n",
       "    <tr>\n",
       "      <th>14</th>\n",
       "      <td>6090</td>\n",
       "      <td>West Village Nest - Superhost</td>\n",
       "      <td>11975</td>\n",
       "      <td>Alina</td>\n",
       "      <td>Manhattan</td>\n",
       "      <td>West Village</td>\n",
       "      <td>40.73530</td>\n",
       "      <td>-74.00525</td>\n",
       "      <td>Entire home/apt</td>\n",
       "      <td>120</td>\n",
       "      <td>90</td>\n",
       "      <td>27</td>\n",
       "      <td>2018-10-31</td>\n",
       "      <td>0.22</td>\n",
       "      <td>1</td>\n",
       "      <td>0</td>\n",
       "    </tr>\n",
       "    <tr>\n",
       "      <th>20</th>\n",
       "      <td>7801</td>\n",
       "      <td>Sweet and Spacious Brooklyn Loft</td>\n",
       "      <td>21207</td>\n",
       "      <td>Chaya</td>\n",
       "      <td>Brooklyn</td>\n",
       "      <td>Williamsburg</td>\n",
       "      <td>40.71842</td>\n",
       "      <td>-73.95718</td>\n",
       "      <td>Entire home/apt</td>\n",
       "      <td>299</td>\n",
       "      <td>3</td>\n",
       "      <td>9</td>\n",
       "      <td>2011-12-28</td>\n",
       "      <td>0.07</td>\n",
       "      <td>1</td>\n",
       "      <td>0</td>\n",
       "    </tr>\n",
       "  </tbody>\n",
       "</table>\n",
       "</div>"
      ],
      "text/plain": [
       "      id                                              name  host_id  \\\n",
       "4   5022  Entire Apt: Spacious Studio/Loft by central park     7192   \n",
       "6   5121                                   BlissArtsSpace!     7356   \n",
       "8   5203                Cozy Clean Guest Room - Family Apt     7490   \n",
       "14  6090                     West Village Nest - Superhost    11975   \n",
       "20  7801                  Sweet and Spacious Brooklyn Loft    21207   \n",
       "\n",
       "    host_name neighbourhood_group       neighbourhood  latitude  longitude  \\\n",
       "4       Laura           Manhattan         East Harlem  40.79851  -73.94399   \n",
       "6       Garon            Brooklyn  Bedford-Stuyvesant  40.68688  -73.95596   \n",
       "8   MaryEllen           Manhattan     Upper West Side  40.80178  -73.96723   \n",
       "14      Alina           Manhattan        West Village  40.73530  -74.00525   \n",
       "20      Chaya            Brooklyn        Williamsburg  40.71842  -73.95718   \n",
       "\n",
       "          room_type  price  minimum_nights  number_of_reviews last_review  \\\n",
       "4   Entire home/apt     80              10                  9  2018-11-19   \n",
       "6      Private room     60              45                 49  2017-10-05   \n",
       "8      Private room     79               2                118  2017-07-21   \n",
       "14  Entire home/apt    120              90                 27  2018-10-31   \n",
       "20  Entire home/apt    299               3                  9  2011-12-28   \n",
       "\n",
       "    reviews_per_month  calculated_host_listings_count  availability_365  \n",
       "4                0.10                               1                 0  \n",
       "6                0.40                               1                 0  \n",
       "8                0.99                               1                 0  \n",
       "14               0.22                               1                 0  \n",
       "20               0.07                               1                 0  "
      ]
     },
     "execution_count": 17,
     "metadata": {},
     "output_type": "execute_result"
    }
   ],
   "source": [
    "# listings with 0 avaliable nights\n",
    "df[df.availability_365 == 0].head() "
   ]
  },
  {
   "cell_type": "code",
   "execution_count": 24,
   "metadata": {},
   "outputs": [
    {
     "data": {
      "text/plain": [
       "(17533, 16)"
      ]
     },
     "execution_count": 24,
     "metadata": {},
     "output_type": "execute_result"
    }
   ],
   "source": [
    "df[df.availability_365 == 0].shape"
   ]
  },
  {
   "cell_type": "markdown",
   "metadata": {},
   "source": [
    "The dataframe above consists of listings with zero availability. As we outline above there are multiple reasons for why a listing could have 0 avalibility. We chose to omit these listing since we wanted to analyze and model listings available on the Airbnb marketplace in 2019 in NYC.  "
   ]
  },
  {
   "cell_type": "code",
   "execution_count": 37,
   "metadata": {},
   "outputs": [
    {
     "data": {
      "text/html": [
       "<div>\n",
       "<style scoped>\n",
       "    .dataframe tbody tr th:only-of-type {\n",
       "        vertical-align: middle;\n",
       "    }\n",
       "\n",
       "    .dataframe tbody tr th {\n",
       "        vertical-align: top;\n",
       "    }\n",
       "\n",
       "    .dataframe thead th {\n",
       "        text-align: right;\n",
       "    }\n",
       "</style>\n",
       "<table border=\"1\" class=\"dataframe\">\n",
       "  <thead>\n",
       "    <tr style=\"text-align: right;\">\n",
       "      <th></th>\n",
       "      <th>id</th>\n",
       "      <th>name</th>\n",
       "      <th>host_id</th>\n",
       "      <th>host_name</th>\n",
       "      <th>neighbourhood_group</th>\n",
       "      <th>neighbourhood</th>\n",
       "      <th>latitude</th>\n",
       "      <th>longitude</th>\n",
       "      <th>room_type</th>\n",
       "      <th>price</th>\n",
       "      <th>minimum_nights</th>\n",
       "      <th>number_of_reviews</th>\n",
       "      <th>last_review</th>\n",
       "      <th>reviews_per_month</th>\n",
       "      <th>calculated_host_listings_count</th>\n",
       "      <th>availability_365</th>\n",
       "    </tr>\n",
       "  </thead>\n",
       "  <tbody>\n",
       "    <tr>\n",
       "      <th>2</th>\n",
       "      <td>3647</td>\n",
       "      <td>THE VILLAGE OF HARLEM....NEW YORK !</td>\n",
       "      <td>4632</td>\n",
       "      <td>Elisabeth</td>\n",
       "      <td>Manhattan</td>\n",
       "      <td>Harlem</td>\n",
       "      <td>40.80902</td>\n",
       "      <td>-73.94190</td>\n",
       "      <td>Private room</td>\n",
       "      <td>150</td>\n",
       "      <td>3</td>\n",
       "      <td>0</td>\n",
       "      <td>NaN</td>\n",
       "      <td>NaN</td>\n",
       "      <td>1</td>\n",
       "      <td>365</td>\n",
       "    </tr>\n",
       "    <tr>\n",
       "      <th>19</th>\n",
       "      <td>7750</td>\n",
       "      <td>Huge 2 BR Upper East  Cental Park</td>\n",
       "      <td>17985</td>\n",
       "      <td>Sing</td>\n",
       "      <td>Manhattan</td>\n",
       "      <td>East Harlem</td>\n",
       "      <td>40.79685</td>\n",
       "      <td>-73.94872</td>\n",
       "      <td>Entire home/apt</td>\n",
       "      <td>190</td>\n",
       "      <td>7</td>\n",
       "      <td>0</td>\n",
       "      <td>NaN</td>\n",
       "      <td>NaN</td>\n",
       "      <td>2</td>\n",
       "      <td>249</td>\n",
       "    </tr>\n",
       "    <tr>\n",
       "      <th>26</th>\n",
       "      <td>8700</td>\n",
       "      <td>Magnifique Suite au N de Manhattan - vue Cloitres</td>\n",
       "      <td>26394</td>\n",
       "      <td>Claude &amp; Sophie</td>\n",
       "      <td>Manhattan</td>\n",
       "      <td>Inwood</td>\n",
       "      <td>40.86754</td>\n",
       "      <td>-73.92639</td>\n",
       "      <td>Private room</td>\n",
       "      <td>80</td>\n",
       "      <td>4</td>\n",
       "      <td>0</td>\n",
       "      <td>NaN</td>\n",
       "      <td>NaN</td>\n",
       "      <td>1</td>\n",
       "      <td>0</td>\n",
       "    </tr>\n",
       "    <tr>\n",
       "      <th>36</th>\n",
       "      <td>11452</td>\n",
       "      <td>Clean and Quiet in Brooklyn</td>\n",
       "      <td>7355</td>\n",
       "      <td>Vt</td>\n",
       "      <td>Brooklyn</td>\n",
       "      <td>Bedford-Stuyvesant</td>\n",
       "      <td>40.68876</td>\n",
       "      <td>-73.94312</td>\n",
       "      <td>Private room</td>\n",
       "      <td>35</td>\n",
       "      <td>60</td>\n",
       "      <td>0</td>\n",
       "      <td>NaN</td>\n",
       "      <td>NaN</td>\n",
       "      <td>1</td>\n",
       "      <td>365</td>\n",
       "    </tr>\n",
       "    <tr>\n",
       "      <th>38</th>\n",
       "      <td>11943</td>\n",
       "      <td>Country space in the city</td>\n",
       "      <td>45445</td>\n",
       "      <td>Harriet</td>\n",
       "      <td>Brooklyn</td>\n",
       "      <td>Flatbush</td>\n",
       "      <td>40.63702</td>\n",
       "      <td>-73.96327</td>\n",
       "      <td>Private room</td>\n",
       "      <td>150</td>\n",
       "      <td>1</td>\n",
       "      <td>0</td>\n",
       "      <td>NaN</td>\n",
       "      <td>NaN</td>\n",
       "      <td>1</td>\n",
       "      <td>365</td>\n",
       "    </tr>\n",
       "  </tbody>\n",
       "</table>\n",
       "</div>"
      ],
      "text/plain": [
       "       id                                               name  host_id  \\\n",
       "2    3647                THE VILLAGE OF HARLEM....NEW YORK !     4632   \n",
       "19   7750                  Huge 2 BR Upper East  Cental Park    17985   \n",
       "26   8700  Magnifique Suite au N de Manhattan - vue Cloitres    26394   \n",
       "36  11452                        Clean and Quiet in Brooklyn     7355   \n",
       "38  11943                          Country space in the city    45445   \n",
       "\n",
       "          host_name neighbourhood_group       neighbourhood  latitude  \\\n",
       "2         Elisabeth           Manhattan              Harlem  40.80902   \n",
       "19             Sing           Manhattan         East Harlem  40.79685   \n",
       "26  Claude & Sophie           Manhattan              Inwood  40.86754   \n",
       "36               Vt            Brooklyn  Bedford-Stuyvesant  40.68876   \n",
       "38          Harriet            Brooklyn            Flatbush  40.63702   \n",
       "\n",
       "    longitude        room_type  price  minimum_nights  number_of_reviews  \\\n",
       "2   -73.94190     Private room    150               3                  0   \n",
       "19  -73.94872  Entire home/apt    190               7                  0   \n",
       "26  -73.92639     Private room     80               4                  0   \n",
       "36  -73.94312     Private room     35              60                  0   \n",
       "38  -73.96327     Private room    150               1                  0   \n",
       "\n",
       "   last_review  reviews_per_month  calculated_host_listings_count  \\\n",
       "2          NaN                NaN                               1   \n",
       "19         NaN                NaN                               2   \n",
       "26         NaN                NaN                               1   \n",
       "36         NaN                NaN                               1   \n",
       "38         NaN                NaN                               1   \n",
       "\n",
       "    availability_365  \n",
       "2                365  \n",
       "19               249  \n",
       "26                 0  \n",
       "36               365  \n",
       "38               365  "
      ]
     },
     "execution_count": 37,
     "metadata": {},
     "output_type": "execute_result"
    }
   ],
   "source": [
    "# listings with 0 total reviews\n",
    "df[df.number_of_reviews == 0].head()"
   ]
  },
  {
   "cell_type": "code",
   "execution_count": 38,
   "metadata": {},
   "outputs": [
    {
     "data": {
      "text/plain": [
       "(10052, 16)"
      ]
     },
     "execution_count": 38,
     "metadata": {},
     "output_type": "execute_result"
    }
   ],
   "source": [
    "df[df.number_of_reviews == 0].shape"
   ]
  },
  {
   "cell_type": "code",
   "execution_count": 41,
   "metadata": {},
   "outputs": [
    {
     "data": {
      "text/plain": [
       "(4845, 16)"
      ]
     },
     "execution_count": 41,
     "metadata": {},
     "output_type": "execute_result"
    }
   ],
   "source": [
    "df_noreview = df[df.number_of_reviews == 0]\n",
    "df_noreview[df_noreview.availability_365 == 0].shape"
   ]
  },
  {
   "cell_type": "markdown",
   "metadata": {},
   "source": [
    "The dataframe also consists of listings with 0 total *number_of_reviews*. We chose to omit these values from the dataset because the number of reviews of a listing can indicate if the listing was active during the time period. Since these listing have no reviews we are assuming that they were inactive. It is also shown above that nearly half of the listings with 0 reviews also have 0 availability. This supports our reasoning that listings with no reviews may be listings which were in-active at the time."
   ]
  },
  {
   "cell_type": "code",
   "execution_count": 5,
   "metadata": {},
   "outputs": [],
   "source": [
    "# remove entries with 0 days of availabilities\n",
    "df = df[df.availability_365 != 0] "
   ]
  },
  {
   "cell_type": "code",
   "execution_count": 6,
   "metadata": {},
   "outputs": [
    {
     "data": {
      "text/plain": [
       "(26155, 16)"
      ]
     },
     "execution_count": 6,
     "metadata": {},
     "output_type": "execute_result"
    }
   ],
   "source": [
    "# remove entries with 0 number of reviews\n",
    "df = df[df.number_of_reviews != 0] \n",
    "df.shape "
   ]
  },
  {
   "cell_type": "markdown",
   "metadata": {},
   "source": [
    "Above, we can see the dimensions of our reduced dataframe, excluding values of availability and number of reviews being 0. "
   ]
  },
  {
   "cell_type": "markdown",
   "metadata": {},
   "source": [
    "Now, we will examine the **price** range of all AirBnB listings by separating these listings into quartiles to get a general insight for this column alone. Along with the 25, 50, 75 % quartile calculations, we can also get information such as the mean, standard deviation and the minimum and maximum value of our price category."
   ]
  },
  {
   "cell_type": "code",
   "execution_count": 7,
   "metadata": {},
   "outputs": [
    {
     "data": {
      "text/html": [
       "<div>\n",
       "<style scoped>\n",
       "    .dataframe tbody tr th:only-of-type {\n",
       "        vertical-align: middle;\n",
       "    }\n",
       "\n",
       "    .dataframe tbody tr th {\n",
       "        vertical-align: top;\n",
       "    }\n",
       "\n",
       "    .dataframe thead th {\n",
       "        text-align: right;\n",
       "    }\n",
       "</style>\n",
       "<table border=\"1\" class=\"dataframe\">\n",
       "  <thead>\n",
       "    <tr style=\"text-align: right;\">\n",
       "      <th></th>\n",
       "      <th>price</th>\n",
       "    </tr>\n",
       "  </thead>\n",
       "  <tbody>\n",
       "    <tr>\n",
       "      <th>count</th>\n",
       "      <td>26155.000000</td>\n",
       "    </tr>\n",
       "    <tr>\n",
       "      <th>mean</th>\n",
       "      <td>149.885184</td>\n",
       "    </tr>\n",
       "    <tr>\n",
       "      <th>std</th>\n",
       "      <td>198.816962</td>\n",
       "    </tr>\n",
       "    <tr>\n",
       "      <th>min</th>\n",
       "      <td>0.000000</td>\n",
       "    </tr>\n",
       "    <tr>\n",
       "      <th>25%</th>\n",
       "      <td>70.000000</td>\n",
       "    </tr>\n",
       "    <tr>\n",
       "      <th>50%</th>\n",
       "      <td>109.000000</td>\n",
       "    </tr>\n",
       "    <tr>\n",
       "      <th>75%</th>\n",
       "      <td>175.000000</td>\n",
       "    </tr>\n",
       "    <tr>\n",
       "      <th>max</th>\n",
       "      <td>9999.000000</td>\n",
       "    </tr>\n",
       "  </tbody>\n",
       "</table>\n",
       "</div>"
      ],
      "text/plain": [
       "              price\n",
       "count  26155.000000\n",
       "mean     149.885184\n",
       "std      198.816962\n",
       "min        0.000000\n",
       "25%       70.000000\n",
       "50%      109.000000\n",
       "75%      175.000000\n",
       "max     9999.000000"
      ]
     },
     "execution_count": 7,
     "metadata": {},
     "output_type": "execute_result"
    }
   ],
   "source": [
    "# summary stats of price column\n",
    "price_des = df[[\"price\"]].describe()\n",
    "price_des"
   ]
  },
  {
   "cell_type": "markdown",
   "metadata": {},
   "source": [
    "As observed in our summary table above, there are interestingly listings that are $0. Our next course of action would be to pull up these listings and do further research.  "
   ]
  },
  {
   "cell_type": "code",
   "execution_count": 8,
   "metadata": {},
   "outputs": [
    {
     "data": {
      "text/html": [
       "<div>\n",
       "<style scoped>\n",
       "    .dataframe tbody tr th:only-of-type {\n",
       "        vertical-align: middle;\n",
       "    }\n",
       "\n",
       "    .dataframe tbody tr th {\n",
       "        vertical-align: top;\n",
       "    }\n",
       "\n",
       "    .dataframe thead th {\n",
       "        text-align: right;\n",
       "    }\n",
       "</style>\n",
       "<table border=\"1\" class=\"dataframe\">\n",
       "  <thead>\n",
       "    <tr style=\"text-align: right;\">\n",
       "      <th></th>\n",
       "      <th>id</th>\n",
       "      <th>name</th>\n",
       "      <th>host_id</th>\n",
       "      <th>host_name</th>\n",
       "      <th>neighbourhood_group</th>\n",
       "      <th>neighbourhood</th>\n",
       "      <th>latitude</th>\n",
       "      <th>longitude</th>\n",
       "      <th>room_type</th>\n",
       "      <th>price</th>\n",
       "      <th>minimum_nights</th>\n",
       "      <th>number_of_reviews</th>\n",
       "      <th>last_review</th>\n",
       "      <th>reviews_per_month</th>\n",
       "      <th>calculated_host_listings_count</th>\n",
       "      <th>availability_365</th>\n",
       "    </tr>\n",
       "  </thead>\n",
       "  <tbody>\n",
       "    <tr>\n",
       "      <th>23161</th>\n",
       "      <td>18750597</td>\n",
       "      <td>Huge Brooklyn Brownstone Living, Close to it all.</td>\n",
       "      <td>8993084</td>\n",
       "      <td>Kimberly</td>\n",
       "      <td>Brooklyn</td>\n",
       "      <td>Bedford-Stuyvesant</td>\n",
       "      <td>40.69023</td>\n",
       "      <td>-73.95428</td>\n",
       "      <td>Private room</td>\n",
       "      <td>0</td>\n",
       "      <td>4</td>\n",
       "      <td>1</td>\n",
       "      <td>2018-01-06</td>\n",
       "      <td>0.05</td>\n",
       "      <td>4</td>\n",
       "      <td>28</td>\n",
       "    </tr>\n",
       "    <tr>\n",
       "      <th>25433</th>\n",
       "      <td>20333471</td>\n",
       "      <td>★Hostel Style Room | Ideal Traveling Buddies★</td>\n",
       "      <td>131697576</td>\n",
       "      <td>Anisha</td>\n",
       "      <td>Bronx</td>\n",
       "      <td>East Morrisania</td>\n",
       "      <td>40.83296</td>\n",
       "      <td>-73.88668</td>\n",
       "      <td>Private room</td>\n",
       "      <td>0</td>\n",
       "      <td>2</td>\n",
       "      <td>55</td>\n",
       "      <td>2019-06-24</td>\n",
       "      <td>2.56</td>\n",
       "      <td>4</td>\n",
       "      <td>127</td>\n",
       "    </tr>\n",
       "    <tr>\n",
       "      <th>25778</th>\n",
       "      <td>20624541</td>\n",
       "      <td>Modern apartment in the heart of Williamsburg</td>\n",
       "      <td>10132166</td>\n",
       "      <td>Aymeric</td>\n",
       "      <td>Brooklyn</td>\n",
       "      <td>Williamsburg</td>\n",
       "      <td>40.70838</td>\n",
       "      <td>-73.94645</td>\n",
       "      <td>Entire home/apt</td>\n",
       "      <td>0</td>\n",
       "      <td>5</td>\n",
       "      <td>3</td>\n",
       "      <td>2018-01-02</td>\n",
       "      <td>0.15</td>\n",
       "      <td>1</td>\n",
       "      <td>73</td>\n",
       "    </tr>\n",
       "    <tr>\n",
       "      <th>25794</th>\n",
       "      <td>20639628</td>\n",
       "      <td>Spacious comfortable master bedroom with nice ...</td>\n",
       "      <td>86327101</td>\n",
       "      <td>Adeyemi</td>\n",
       "      <td>Brooklyn</td>\n",
       "      <td>Bedford-Stuyvesant</td>\n",
       "      <td>40.68173</td>\n",
       "      <td>-73.91342</td>\n",
       "      <td>Private room</td>\n",
       "      <td>0</td>\n",
       "      <td>1</td>\n",
       "      <td>93</td>\n",
       "      <td>2019-06-15</td>\n",
       "      <td>4.28</td>\n",
       "      <td>6</td>\n",
       "      <td>176</td>\n",
       "    </tr>\n",
       "    <tr>\n",
       "      <th>25795</th>\n",
       "      <td>20639792</td>\n",
       "      <td>Contemporary bedroom in brownstone with nice view</td>\n",
       "      <td>86327101</td>\n",
       "      <td>Adeyemi</td>\n",
       "      <td>Brooklyn</td>\n",
       "      <td>Bedford-Stuyvesant</td>\n",
       "      <td>40.68279</td>\n",
       "      <td>-73.91170</td>\n",
       "      <td>Private room</td>\n",
       "      <td>0</td>\n",
       "      <td>1</td>\n",
       "      <td>95</td>\n",
       "      <td>2019-06-21</td>\n",
       "      <td>4.37</td>\n",
       "      <td>6</td>\n",
       "      <td>232</td>\n",
       "    </tr>\n",
       "  </tbody>\n",
       "</table>\n",
       "</div>"
      ],
      "text/plain": [
       "             id                                               name    host_id  \\\n",
       "23161  18750597  Huge Brooklyn Brownstone Living, Close to it all.    8993084   \n",
       "25433  20333471      ★Hostel Style Room | Ideal Traveling Buddies★  131697576   \n",
       "25778  20624541      Modern apartment in the heart of Williamsburg   10132166   \n",
       "25794  20639628  Spacious comfortable master bedroom with nice ...   86327101   \n",
       "25795  20639792  Contemporary bedroom in brownstone with nice view   86327101   \n",
       "\n",
       "      host_name neighbourhood_group       neighbourhood  latitude  longitude  \\\n",
       "23161  Kimberly            Brooklyn  Bedford-Stuyvesant  40.69023  -73.95428   \n",
       "25433    Anisha               Bronx     East Morrisania  40.83296  -73.88668   \n",
       "25778   Aymeric            Brooklyn        Williamsburg  40.70838  -73.94645   \n",
       "25794   Adeyemi            Brooklyn  Bedford-Stuyvesant  40.68173  -73.91342   \n",
       "25795   Adeyemi            Brooklyn  Bedford-Stuyvesant  40.68279  -73.91170   \n",
       "\n",
       "             room_type  price  minimum_nights  number_of_reviews last_review  \\\n",
       "23161     Private room      0               4                  1  2018-01-06   \n",
       "25433     Private room      0               2                 55  2019-06-24   \n",
       "25778  Entire home/apt      0               5                  3  2018-01-02   \n",
       "25794     Private room      0               1                 93  2019-06-15   \n",
       "25795     Private room      0               1                 95  2019-06-21   \n",
       "\n",
       "       reviews_per_month  calculated_host_listings_count  availability_365  \n",
       "23161               0.05                               4                28  \n",
       "25433               2.56                               4               127  \n",
       "25778               0.15                               1                73  \n",
       "25794               4.28                               6               176  \n",
       "25795               4.37                               6               232  "
      ]
     },
     "execution_count": 8,
     "metadata": {},
     "output_type": "execute_result"
    }
   ],
   "source": [
    "# listings with price = $0\n",
    "df[df.price == 0].head()"
   ]
  },
  {
   "cell_type": "markdown",
   "metadata": {},
   "source": [
    "After searching these listings online, we've come up with mixed results of these listings' robustness. Listings such as Kimberly's seem to have been removed while all three of Adeyemi's listings are still up on AirBnB and running in 2021. Additionally, there isn't any way that we can revisit AirBnB's 2019 websites to verify these listings.\n",
    "\n",
    "One possible reason for these $0 prices may have been a deliberate act by the hosts to temporarily remove the listing from the AirBnB market when these listings were webscraped. The additional fact that among these 0 USD listings, 3 and 2 of them belong to the same host may further indicate that it is a host-activated anomaly. \n",
    "\n",
    "We were able to find online that \"the minimum daily price must be at least $10 per day.\" for listings.\n",
    "\n",
    "Either way, we will remove these listings just to minimize any possibility of accruing errors based on unknown anomalies.\n",
    "\n",
    "Below, is the process of removing entries with the listing price = \\\\$0. \n",
    "The new min listing price is $10 which is consistent with Airbnb guidelines."
   ]
  },
  {
   "cell_type": "code",
   "execution_count": 9,
   "metadata": {},
   "outputs": [
    {
     "data": {
      "text/html": [
       "<div>\n",
       "<style scoped>\n",
       "    .dataframe tbody tr th:only-of-type {\n",
       "        vertical-align: middle;\n",
       "    }\n",
       "\n",
       "    .dataframe tbody tr th {\n",
       "        vertical-align: top;\n",
       "    }\n",
       "\n",
       "    .dataframe thead th {\n",
       "        text-align: right;\n",
       "    }\n",
       "</style>\n",
       "<table border=\"1\" class=\"dataframe\">\n",
       "  <thead>\n",
       "    <tr style=\"text-align: right;\">\n",
       "      <th></th>\n",
       "      <th>price</th>\n",
       "    </tr>\n",
       "  </thead>\n",
       "  <tbody>\n",
       "    <tr>\n",
       "      <th>count</th>\n",
       "      <td>26147.000000</td>\n",
       "    </tr>\n",
       "    <tr>\n",
       "      <th>mean</th>\n",
       "      <td>149.931044</td>\n",
       "    </tr>\n",
       "    <tr>\n",
       "      <th>std</th>\n",
       "      <td>198.830086</td>\n",
       "    </tr>\n",
       "    <tr>\n",
       "      <th>min</th>\n",
       "      <td>10.000000</td>\n",
       "    </tr>\n",
       "    <tr>\n",
       "      <th>25%</th>\n",
       "      <td>70.000000</td>\n",
       "    </tr>\n",
       "    <tr>\n",
       "      <th>50%</th>\n",
       "      <td>109.000000</td>\n",
       "    </tr>\n",
       "    <tr>\n",
       "      <th>75%</th>\n",
       "      <td>175.000000</td>\n",
       "    </tr>\n",
       "    <tr>\n",
       "      <th>max</th>\n",
       "      <td>9999.000000</td>\n",
       "    </tr>\n",
       "  </tbody>\n",
       "</table>\n",
       "</div>"
      ],
      "text/plain": [
       "              price\n",
       "count  26147.000000\n",
       "mean     149.931044\n",
       "std      198.830086\n",
       "min       10.000000\n",
       "25%       70.000000\n",
       "50%      109.000000\n",
       "75%      175.000000\n",
       "max     9999.000000"
      ]
     },
     "execution_count": 9,
     "metadata": {},
     "output_type": "execute_result"
    }
   ],
   "source": [
    "df = df[df.price != 0] # remove listings that have $0 price.\n",
    "price_summ2 = df[[\"price\"]].describe() # summary statistics of price after removal\n",
    "price_summ2"
   ]
  },
  {
   "cell_type": "code",
   "execution_count": 11,
   "metadata": {},
   "outputs": [
    {
     "data": {
      "text/plain": [
       "<matplotlib.axes._subplots.AxesSubplot at 0x2b22a10c748>"
      ]
     },
     "execution_count": 11,
     "metadata": {},
     "output_type": "execute_result"
    },
    {
     "data": {
      "image/png": "[encoded data removed]",
      "text/plain": [
       "<Figure size 432x288 with 1 Axes>"
      ]
     },
     "metadata": {
      "needs_background": "light"
     },
     "output_type": "display_data"
    }
   ],
   "source": [
    "sns.histplot(data=df[], x=\"price\")"
   ]
  },
  {
   "cell_type": "markdown",
   "metadata": {},
   "source": [
    "We can see that the data is quite skewed with multiple extremely high prices heavily affecting the data. Further research also shows that some of these data points are ab-normal listings, such as a 2012 Superbowl private room listing.\n",
    "\n",
    "We will use the 1.5 Interquartile Range Test to determine outliers and store these listings in a different dataframe for further data analysis. "
   ]
  },
  {
   "cell_type": "code",
   "execution_count": null,
   "metadata": {},
   "outputs": [],
   "source": [
    "#Using the 1.5 Interquartile Range Test to determine outliers\n",
    "\n",
    "IQR = np.percentile(df.price, 75)-np.percentile(df.price, 25)\n",
    "lower_limit = np.percentile(df.price, 25)- 1.5*IQR\n",
    "upper_limit = np.percentile(df.price, 75) + 1.5*IQR\n",
    "print(lower_limit, upper_limit) \n",
    "# Calculations for outliers within the price entry of data, used to deem what is considered \"too expensive.\""
   ]
  },
  {
   "cell_type": "markdown",
   "metadata": {},
   "source": [
    "Here, through the IQR test, we can calculate for outliers within the price entry of data. We can see that anything above the price of 332.5 dollars would be considered too expensive, and therefore would be an outlier.  Since there technically cannot be any negative values for prices, we will fix the lower limit at 10 dollars which is the minimum value as seen in our quartile table."
   ]
  },
  {
   "cell_type": "code",
   "execution_count": null,
   "metadata": {},
   "outputs": [],
   "source": [
    "#df\n",
    "\n",
    "#Since there technically cannot be any negative values for prices, we will fix the lower limit at $10 which is the minimum value as seen in our quartile table.\n",
    "\n",
    "outliersdf = df.loc[lambda df: df.price > upper_limit]\n",
    "outliersdf # Dataset of what is considered too expensive, conduct plots to see analysis.\n",
    "# Possibly explain why these listings would be considered expensive.\n",
    "\n",
    "# could also use df.loc[lambda df: df.price >=6000]\n",
    "\n",
    "#Do futher processing here later \n",
    "#df_1 = df.loc[lambda df: df.price <= 6000] # df without outliers\n",
    "#df_1\n",
    "\n",
    "outliersdf.shape"
   ]
  },
  {
   "cell_type": "markdown",
   "metadata": {},
   "source": [
    "### Tidied Dataset"
   ]
  },
  {
   "cell_type": "markdown",
   "metadata": {},
   "source": [
    "Below, we have cut all outliers and properly cleaned the dataset and can move on to exploratory data analysis. We can also see the dimensions of our cleaned up dataset."
   ]
  },
  {
   "cell_type": "code",
   "execution_count": null,
   "metadata": {},
   "outputs": [],
   "source": [
    "tidydf = df.loc[lambda df: df.price <= upper_limit]\n",
    "tidydf.shape"
   ]
  },
  {
   "cell_type": "code",
   "execution_count": null,
   "metadata": {},
   "outputs": [],
   "source": [
    "plt.figure(figsize = (12,12))\n",
    "sns.heatmap(tidydf.corr(),annot=True) # Explain corr plot."
   ]
  },
  {
   "cell_type": "markdown",
   "metadata": {},
   "source": [
    "Here, we can see a proper correlation matrix between the variables within our dataset. According to this plot, we can see that the more lighter the color, the higher the correlation between each variable. Vice versa, we can see that the darker the number, the lower the correlation. From this plot, we can immediately see a high correlation of 0.6 between id and host_id. Along with this, it can be seen that number of reviews and reviews per month also have a higher correlation than others at 0.49. Along with positive correlations, we can also see negative correlations with id and number of reviews at -0.45 and with id and reviews per month at -0.45. We can also see a negative correlation between price and longitude at -0.3, although a positive correlation of 0.051 between price and latitude. \n",
    "\n",
    "As id is a specific tag per listing, host_id is also a specific tag per host. Therefore, this positive correlation does seem to make sense as some hosts would have multiple listings under their name. Number of reviews and reviews per month also tend to have a positive correlation as each number of review contributes to a review per month and vice versa, therefore these two variables seem to have a direct relationship. \n",
    "\n",
    "The lowest correlation we can see in this plot can be seen between both variables of reviews and id. The large negative correlation between them does seem accurate, as each id is specific and randomly generated and does not relate at all to reviews at all. Another negative correlation that was interesting comes from price and longitude. As longitude tends to be west and east, it can be seen that pricein New York does not tend to have any sort of relationship with those specific directions. Although, price and latitude show a somewhat positive correlation, meaning that price is more correlated with listings that range from the north and south rather than the west and east. "
   ]
  },
  {
   "cell_type": "code",
   "execution_count": null,
   "metadata": {},
   "outputs": [],
   "source": [
    "#do we need this entire plot or plot boxplots for specific columns?\n",
    "plt.figure(figsize = (12,12))\n",
    "tidydf.boxplot()"
   ]
  },
  {
   "cell_type": "markdown",
   "metadata": {},
   "source": [
    "## Graphs\n",
    "\n",
    "- Price (whole dataset, by borough, by types of room) **DONE**\n",
    "- Minimum Nights (whole dataset, by borough) **DONE**\n",
    "- Types of Room (whole dataaset, by borough) **DONE**\n",
    "- Reviews per month (whole dataset, by borough) **DONE**\n",
    "- availability 365 (whole dataset, by borough)\n",
    "\n",
    "\n",
    "### If we have time \n",
    "- Some sort of graphs and explaination of popularity \n",
    "- recommended by prof: roc curve\n",
    "\n",
    "### Extra\n",
    "- heat map \n",
    "- box plot \n",
    "- how much people are making \n",
    "- which hosts make the most\n",
    "- observe which neighborhoods have certain amount of avalibilty "
   ]
  },
  {
   "cell_type": "markdown",
   "metadata": {},
   "source": [
    "We will plot some graphs with our tidied dataset to gain further insight, as well as to visualize any more abnormal data points for further cleaning. We will not be subsetting these outliers from the main tidied dataset as these variables will not be our main focus for our NLP analysis. However, we will generate graphs of these outliers for further analysis."
   ]
  },
  {
   "cell_type": "code",
   "execution_count": null,
   "metadata": {},
   "outputs": [],
   "source": [
    "sns.set(style=\"darkgrid\")\n",
    "sns.countplot(y = 'room_type', data= tidydf)"
   ]
  },
  {
   "cell_type": "markdown",
   "metadata": {},
   "source": [
    "We can see that most listings are either private rooms or the entirety of the property. This indicates that most AirBnB customers may be looking for private accomodation rather than shared spaces."
   ]
  },
  {
   "cell_type": "code",
   "execution_count": null,
   "metadata": {},
   "outputs": [],
   "source": [
    "sns.countplot(y = 'neighbourhood_group', data= tidydf).set_title(\"Listings by Borough\")"
   ]
  },
  {
   "cell_type": "markdown",
   "metadata": {},
   "source": [
    "Most listings are either in the boroughs of Brooklyn or Manhattan. This is logical given that these 2 boroughs contain the most attractions and activites in New York City. Staten Island has the lowest number of listings, which may be due to its geographical location being relatively inaccessible compared to the other boroughs."
   ]
  },
  {
   "cell_type": "code",
   "execution_count": null,
   "metadata": {},
   "outputs": [],
   "source": [
    "dfn = df['neighbourhood'].value_counts()\n",
    "sns.countplot(y='neighbourhood',data=tidydf, order=dfn.iloc[:10].index).set_title('Top 10 Neighborhoods of Listings')"
   ]
  },
  {
   "cell_type": "markdown",
   "metadata": {},
   "source": [
    "The top 4 neighborhoods of AirBnB listings are all in Brooklyn, with Bedford-Stuyvesant being the top neighborhood by quite a margin. The 5th to 8th most popular neighborhoods are in Manhattan. This may be due to affordability of Brooklyn compared to Manhattan. "
   ]
  },
  {
   "cell_type": "markdown",
   "metadata": {},
   "source": [
    "Density Map of All Listings According to Price\n",
    "\n",
    "<https://geopandas.org/gallery/create_geopandas_from_pandas.html>"
   ]
  },
  {
   "cell_type": "code",
   "execution_count": null,
   "metadata": {},
   "outputs": [],
   "source": [
    "#gdf = gpd.GeoDataFrame(\n",
    "    #tidydf, geometry=gpd.points_from_xy(tidydf.longitude, tidydf.latitude))\n",
    "\n",
    "#ax = gdf.plot(figsize=(15, 15), alpha=0.5, edgecolor='k')\n",
    "#ctx.add_basemap(ax, zoom = 18)\n",
    "#ax.set_axis_off()"
   ]
  },
  {
   "cell_type": "code",
   "execution_count": null,
   "metadata": {},
   "outputs": [],
   "source": [
    "import geopandas as gpd\n",
    "import contextily as ctx\n",
    "\n",
    "plt.figure(figsize=(15,30))\n",
    "sns_map = sns.scatterplot(x='longitude', y='latitude', hue='price',s=20, data=tidydf)\n",
    "ctx.add_basemap(sns_map, crs = 'EPSG:4326', source=ctx.providers.CartoDB.Positron)\n",
    "sns_map.set_axis_off()"
   ]
  },
  {
   "cell_type": "markdown",
   "metadata": {},
   "source": [
    "From the density map above, we can see that most of the listings are concentrated around the boroughs of Brooklyn and Manhattan. We can also observe that Manhattan has a higher density of expensive listings, and apart from standout anomalies, prices tend to be lower as listings become further from Manhattan."
   ]
  },
  {
   "cell_type": "markdown",
   "metadata": {},
   "source": [
    "Graphs in relation to price"
   ]
  },
  {
   "cell_type": "code",
   "execution_count": 12,
   "metadata": {},
   "outputs": [],
   "source": [
    "#sns.boxplot(x='price', data=df)\n",
    "#px.histogram(tidydf, x = 'price', title = 'Price Distribution')"
   ]
  },
  {
   "cell_type": "markdown",
   "metadata": {},
   "source": [
    "From the histogram above, we can see a left-skewed unimodal distribution. A majority of the listings hover around a price between 35 to 130 USD. However, there are significant spikes at 150, 200, 250, and 300 USD bins, as well as smaller spikes at 175, 225, 275, and 325 USD bins. We believe that this may be caused by human psychology where hosts may round their prices to the nearest 25 or 50 dollar for a more \"aesthetically pleasing\" price number."
   ]
  },
  {
   "cell_type": "code",
   "execution_count": null,
   "metadata": {},
   "outputs": [],
   "source": [
    "#by room type and borough\n",
    "sns.catplot(x='neighbourhood_group', y='price', data = tidydf, hue = 'room_type')"
   ]
  },
  {
   "cell_type": "markdown",
   "metadata": {},
   "source": [
    "There is an obvious trend that shared rooms are the cheapest option in all boroughs, followed by private room and entire property. Additionally, Staten Island and the Bronx have a lot less listings above 150USD compared to Brooklyn and Manhattan. Additionally, as seen in our density map, Manhattan has the highest density of expensive listings compared to other boroughs."
   ]
  },
  {
   "cell_type": "markdown",
   "metadata": {},
   "source": []
  },
  {
   "cell_type": "code",
   "execution_count": null,
   "metadata": {},
   "outputs": [],
   "source": [
    "plt.figure(figsize=(15,30))\n",
    "sns_map_out = sns.scatterplot(x='longitude', y='latitude', hue='price',s=20, data=outliersdf)\n",
    "ctx.add_basemap(sns_map_out, crs = 'EPSG:4326', source=ctx.providers.CartoDB.Positron)\n",
    "sns_map_out.set_axis_off()"
   ]
  },
  {
   "cell_type": "code",
   "execution_count": null,
   "metadata": {},
   "outputs": [],
   "source": [
    "#learning about outlying prices according to room type\n",
    "sns.catplot(x='room_type', y='price', data = outliersdf)"
   ]
  },
  {
   "cell_type": "markdown",
   "metadata": {},
   "source": [
    "Most of the outlying expensive listings are either for entire properties or private rooms. Interestingly, the most expensive listing is a 10000USD private room in Queens. This is listing is now defunct, but we can infer that it might be a long term rental situation as the listing also indicates a minimum night requirement of 100 nights."
   ]
  },
  {
   "cell_type": "code",
   "execution_count": null,
   "metadata": {},
   "outputs": [],
   "source": [
    "#learning about outliers according to neighborhood and room type\n",
    "sns.catplot(x='neighbourhood_group', y='price', data = outliersdf, hue = 'room_type')"
   ]
  },
  {
   "cell_type": "markdown",
   "metadata": {},
   "source": [
    "Graphs in relation to minimum nights"
   ]
  },
  {
   "cell_type": "code",
   "execution_count": null,
   "metadata": {},
   "outputs": [],
   "source": [
    "#sns.boxplot(x='minimum_nights', data=df)\n",
    "px.histogram(tidydf, x = 'minimum_nights', title = 'Minimum Nights Distribution')"
   ]
  },
  {
   "cell_type": "code",
   "execution_count": null,
   "metadata": {},
   "outputs": [],
   "source": [
    "np.mean(tidydf.minimum_nights)"
   ]
  },
  {
   "cell_type": "markdown",
   "metadata": {},
   "source": [
    "Most listings in 2019 NYC have a minimum night requirement between 1 to 7 nights, with an average minimum night requirement of 6.64 and 2 nights being the hightest. There is an apparent spike of listings with a minimum night requirement of 30 nights.\n",
    "\n",
    "There seems to be multiple outliers, with one as extreme as 1250 minimum nights. This wide range of minimum night requirements allude to the existence of not just long term vacation rental properties but also potentially long term residence.\n",
    "\n",
    "We will determine their outliers again using the 1.5 IQR test."
   ]
  },
  {
   "cell_type": "code",
   "execution_count": null,
   "metadata": {},
   "outputs": [],
   "source": [
    "#Using the 1.5 Interquartile Range Test to determine outliers\n",
    "\n",
    "IQR_mn = np.percentile(tidydf.minimum_nights, 75)-np.percentile(tidydf.minimum_nights, 25)\n",
    "lower_limit_mn = np.percentile(tidydf.minimum_nights, 25)- 1.5*IQR\n",
    "upper_limit_mn = np.percentile(tidydf.minimum_nights, 75) + 1.5*IQR\n",
    "print(lower_limit_mn, upper_limit_mn) \n",
    "# Calculations for outliers within the price entry of data, used to deem what is considered \"too expensive.\""
   ]
  },
  {
   "cell_type": "code",
   "execution_count": null,
   "metadata": {},
   "outputs": [],
   "source": [
    "#Since there technically cannot be any negative values for min nights, we will fix the lower limit at 0.\n",
    "\n",
    "outliersdf_mn = tidydf.loc[lambda tidydf: tidydf.minimum_nights > upper_limit_mn]\n",
    "outliersdf_mn # Dataset of what is considered too expensive, conduct plots to see analysis.\n",
    "# Possibly explain why these listings would be considered expensive.\n",
    "\n",
    "# could also use df.loc[lambda df: df.price >=6000]\n",
    "\n",
    "#Do futher processing here later \n",
    "#df_1 = df.loc[lambda df: df.price <= 6000] # df without outliers\n",
    "#df_1\n",
    "\n",
    "outliersdf_mn.shape"
   ]
  },
  {
   "cell_type": "code",
   "execution_count": null,
   "metadata": {},
   "outputs": [],
   "source": [
    "tidydf_mn = tidydf.loc[lambda tidydf: tidydf.minimum_nights <= upper_limit_mn]\n",
    "tidydf_mn.shape"
   ]
  },
  {
   "cell_type": "code",
   "execution_count": null,
   "metadata": {},
   "outputs": [],
   "source": [
    "sns.catplot(x='neighbourhood_group', y='minimum_nights', data = tidydf_mn, hue='room_type')"
   ]
  },
  {
   "cell_type": "markdown",
   "metadata": {},
   "source": [
    "From the graph, it seems like Staten Island and the Bronx are not popular boroughs for long term rentals longer than 30 days. Further investigation of the few orange anomalies in the Bronx reveal that they are all from the same host, Sasha (Host ID: 2988712), who seems to have multiple 90-day listings around Claremont Village and Mount Hope in the Bronx.\n",
    "\n",
    "Most longer term rentals in Brooklyn, Manhattan, and Queens are of entire properties. Interesting anomalies include the 90 day minimum night requirement listings for a shared room in Manhattan. Further investigation shows that these listings (Host IDs: 21628183 and 23184420) are both from LaGuardia Houses Public Housing Development looking for long term housemates. We believe that these listings are a result of hosts trying to bypass New York's legal barrier of subletting public housing for additional income, adding onto the high accessibility of AirBnB for anyone to put out a listing."
   ]
  },
  {
   "cell_type": "code",
   "execution_count": null,
   "metadata": {},
   "outputs": [],
   "source": [
    "sns.catplot(x='neighbourhood_group', y='minimum_nights', data = outliersdf_mn, hue='room_type')"
   ]
  },
  {
   "cell_type": "markdown",
   "metadata": {},
   "source": [
    "As expected, most extreme values of minimum night requirement are from listings in Manhattan and Brooklyn, with Queens and the Bronx each only having 1 listing and Staten Island not having any. Both listings in Queens and the Bronx seem to be long term rental leasings, just like most of the other leasings in this plot."
   ]
  },
  {
   "cell_type": "markdown",
   "metadata": {},
   "source": [
    "Graph by Reviews Per Month"
   ]
  },
  {
   "cell_type": "code",
   "execution_count": null,
   "metadata": {},
   "outputs": [],
   "source": [
    "px.histogram(tidydf, x = 'reviews_per_month', title = 'Reviews Per Month Distribution')"
   ]
  },
  {
   "cell_type": "code",
   "execution_count": null,
   "metadata": {},
   "outputs": [],
   "source": [
    "np.mean(tidydf.reviews_per_month)"
   ]
  },
  {
   "cell_type": "markdown",
   "metadata": {},
   "source": [
    "The number of reviews are heavily skewed to the left with listings getting an average of 1.83 reviews per month. There are obvious outliers, with a listing getting as many as 58.5 average reviews per month."
   ]
  },
  {
   "cell_type": "code",
   "execution_count": null,
   "metadata": {},
   "outputs": [],
   "source": [
    "sns.catplot(x='neighbourhood_group', y='reviews_per_month', data = tidydf, hue='room_type')"
   ]
  },
  {
   "cell_type": "markdown",
   "metadata": {},
   "source": [
    "We can see that most boroughs have a similar pattern of reviews per month, with 2 anomalies in Manhattan. Further analysis reveals that both listings (ID: 32678719 and 32678720) are by the same host Row NYC (Host ID: 244361589) which is a hotel in New York City. They may have more reviews as they may be more attractive to customers as an established hotel chain. Additionally, they may have multiple rooms available under the same listing, which would explain why they have listings getting 58.5 reviews in a span of 30 or 31 days. "
   ]
  },
  {
   "cell_type": "markdown",
   "metadata": {},
   "source": [
    "Graphs by Availabile Days out of 365 Days"
   ]
  },
  {
   "cell_type": "code",
   "execution_count": null,
   "metadata": {},
   "outputs": [],
   "source": [
    "px.histogram(df, x = 'availability_365', title = 'Distribution of Available Days out of 365 days')"
   ]
  },
  {
   "cell_type": "markdown",
   "metadata": {},
   "source": [
    "We can see a bimodal distribution with spkies at both ends. This tells us that on one extreme, most NYC hosts were not leasing out their place during 2019, or maybe for a duration not more than a week. On the other extreme, there were hosts that had listings available for almost the entire year of 2019. "
   ]
  },
  {
   "cell_type": "code",
   "execution_count": null,
   "metadata": {},
   "outputs": [],
   "source": [
    "sns.catplot(x='neighbourhood_group', y='availability_365', data = tidydf, hue='room_type')"
   ]
  },
  {
   "cell_type": "markdown",
   "metadata": {},
   "source": [
    "All boroughs had availabilities rangine from 0 to 365, with not much of a differentiation between room types. It is interesting to note that a majority of Staten Island listings were available for more days of the year compared to other boroughs. "
   ]
  },
  {
   "cell_type": "markdown",
   "metadata": {},
   "source": [
    "## NLP\n",
    "\n",
    "- Use nlp libraries to group names \n",
    "- find correlation to popularity maybe price\n",
    "\n",
    "- Word differences from different room types \n",
    "- popularity: some how combine the popularity scores\n",
    "- pricing \n",
    "- neighborhoods "
   ]
  },
  {
   "cell_type": "markdown",
   "metadata": {},
   "source": [
    "We will be exploring the name feature of the Airbnb dataset in depth using NLP techniques. With the use of the popular NLP library spacy we are able to clean the listing names and extract relevant information from them such as the most frequnctly used words in listings as well as non english symbols used in the listings. \n",
    "\n",
    "In our analysis of the names of the listings we provide visualizations to show the relationship of the name listings across price subgroups and popularity subgroups which we equated to be the number of reviews per month. \n",
    "\n",
    "Additionally we explore the unique listing names which contain non english symbols and plot their locations to see if there is any correlation between the language used in the listing and the listing location. This correlation may be present in listing names which contain chinese characters and are potentially located in china town."
   ]
  },
  {
   "cell_type": "code",
   "execution_count": null,
   "metadata": {},
   "outputs": [],
   "source": [
    "df_r_low = df[df['reviews_per_month'].between(0, 0.45)] #25%\n",
    "df_r_mid = df[df['reviews_per_month'].between(0.46, 1.23)] #50%\n",
    "df_r_high = df[df['reviews_per_month'].between(1.24, 2.68)] #75%\n",
    "df_r_extra = df[df['reviews_per_month'].between(2.69, 70)] #75%\n",
    "\n",
    "#Need better way of splitting the dataset based on quantiles maybe have list of quantiles and create functions \n",
    "\n",
    "#show the amount of listings with quantiles \n",
    "\n",
    "df_p_low = df[df['price'].between(0, 70)] #25%\n",
    "df_p_mid = df[df['price'].between(70.01, 109)] #50%\n",
    "df_p_high = df[df['price'].between(109.01, 175)] #75%\n",
    "df_p_extra = df[df['price'].between(175, 9999)] #100%"
   ]
  },
  {
   "cell_type": "code",
   "execution_count": null,
   "metadata": {},
   "outputs": [],
   "source": [
    "df_r_low.shape"
   ]
  },
  {
   "cell_type": "code",
   "execution_count": null,
   "metadata": {},
   "outputs": [],
   "source": [
    "df_p_low.shape"
   ]
  },
  {
   "cell_type": "code",
   "execution_count": null,
   "metadata": {},
   "outputs": [],
   "source": [
    "quartiles_r = df[[\"reviews_per_month\"]].describe()\n",
    "\n",
    "quartiles_p = df[[\"price\"]].describe()\n",
    "\n",
    "print(df_r_low.shape, '\\n\\n'\n",
    ", quartiles_r, '\\n\\n', quartiles_p)"
   ]
  },
  {
   "cell_type": "code",
   "execution_count": null,
   "metadata": {},
   "outputs": [],
   "source": [
    "#Word cloud of all not cleaned names \n",
    "\n",
    "df_nc = pd.read_csv('Airbnb_NYC_2019.csv')\n",
    "\n",
    "from wordcloud import WordCloud\n",
    "\n",
    "corpus = list(df_nc[\"name\"].values)\n",
    "clean_named = (' '.join(w for w in corpus if isinstance(w, str) ))\n",
    "\n",
    "wordcloud = WordCloud(width = 1200, height = 600,\n",
    "                background_color ='white',\n",
    "                min_font_size = 10).generate(clean_named)\n",
    "\n",
    "# plot the WordCloud image                       \n",
    "plt.figure(figsize = (8, 8), facecolor = None)\n",
    "plt.imshow(wordcloud)\n",
    "plt.axis(\"off\")\n",
    "plt.tight_layout(pad = 0)\n",
    "plt.show()"
   ]
  },
  {
   "cell_type": "code",
   "execution_count": null,
   "metadata": {},
   "outputs": [],
   "source": [
    "df.columns"
   ]
  },
  {
   "cell_type": "markdown",
   "metadata": {},
   "source": [
    "***Why are we using the cleaned dataset for names***\n",
    "\n",
    "Reason: For the most part it takes out irrelevant listing which potenitally were not listing active in 2019. In terms of the focus of this report we ideally aim to see active listing in 2019 and compare the relationship between subgroups of price and popularity via number of review per month. \n",
    "\n",
    "Reason: we only use the cleaned dataset because we want to only look at names that resemble the listing for airbnb in newyork during 2019. The cleaned data removes all the data that is invalid.\n",
    "\n"
   ]
  },
  {
   "cell_type": "code",
   "execution_count": null,
   "metadata": {},
   "outputs": [],
   "source": [
    "#Explore chinatown name find locations of the chinese names\n",
    "\n",
    "df.shape"
   ]
  },
  {
   "cell_type": "code",
   "execution_count": null,
   "metadata": {},
   "outputs": [],
   "source": [
    "# #COUNTS MOST POPULAR NAMES\n",
    "# from collections import Counter\n",
    "\n",
    "# #clean_named\n",
    "\n",
    "# # split() returns list of all the words in the string\n",
    "# split_it = clean_named.split()\n",
    "  \n",
    "# # Pass the split_it list to instance of Counter class.\n",
    "# Counter = Counter(split_it)\n",
    "  \n",
    "# # most_common() produces k frequently encountered\n",
    "# # input values and their respective counts.\n",
    "# most_occur = Counter.most_common(30)\n",
    "  \n",
    "# print(most_occur)"
   ]
  },
  {
   "cell_type": "code",
   "execution_count": null,
   "metadata": {},
   "outputs": [],
   "source": [
    "#RANDOM CODE GOT FROM CLASS\n",
    "#dividing cars into 3 categories by weight\n",
    "# min_price = min(df['weight'])\n",
    "# max_price = max(df['weight'])\n",
    "# per_bin = (max_wt - min_wt)/3\n",
    "\n",
    "# bin1_start = min(df['weight'])\n",
    "# bin1_end = bin1_start + per_bin\n",
    "# bin2_end = bin1_end + per_bin\n",
    "\n",
    "# def label_wt(row):\n",
    "#     if bin1_start <= row['weight'] and row['weight'] <= bin1_end:\n",
    "#         return 'light'\n",
    "#     elif row['weight'] <= bin2_end:\n",
    "#         return 'medium'\n",
    "#     else:\n",
    "#         return 'heavy'\n",
    "# df['weight_categ'] = df.apply(lambda row: label_wt(row),axis=1)\n",
    "# df.head()\n",
    "# print(\"Thresholds: \\nBin 1 = \",bin1_end,\"\\nBin 2 = \",bin2_end,\"\\nBin 3 = \",max_wt,\"\\nSize of each bin = \",per_bin)"
   ]
  },
  {
   "cell_type": "code",
   "execution_count": null,
   "metadata": {},
   "outputs": [],
   "source": [
    "# vectorizer = TfidfVectorizer()\n",
    "# X = vectorizer.fit_transform(clean_names)\n",
    "\n",
    "# threshold = 0.2\n",
    "\n",
    "# for x in range(0,X.shape[0]):\n",
    "#   for y in range(x,X.shape[0]):\n",
    "#     if x!=y:\n",
    "#       if cosine_similarity(X[x],X[y])>threshold:\n",
    "#         print(df_1[\"name\"][x],\":\",corpus[x])\n",
    "#         #print(df_1[\"name\"][y],\":\",corpus[y])\n",
    "#         print(\"Cosine similarity:\",cosine_similarity(X[x],X[y]))\n",
    "#         print()"
   ]
  },
  {
   "cell_type": "markdown",
   "metadata": {},
   "source": [
    "### Removing Puncuations"
   ]
  },
  {
   "cell_type": "code",
   "execution_count": null,
   "metadata": {},
   "outputs": [],
   "source": [
    "### Creating a data frame that has only id and names.\n",
    "\n",
    "#spacy import \n",
    "from spacy.lang.en import English\n",
    "import spacy\n",
    "spacy_stopwords = spacy.lang.en.stop_words.STOP_WORDS"
   ]
  },
  {
   "cell_type": "code",
   "execution_count": null,
   "metadata": {},
   "outputs": [],
   "source": [
    "\n",
    "dfs = [df_r_low, df_r_mid, df_r_high, df_r_extra]\n",
    "\n",
    "names_c = [] #list of all the names as strings\n",
    "\n",
    "nlp = English()\n",
    "\n",
    "nlp.Defaults.stop_words |= {\"room\", \"bedroom\", \"apartment\", \"apt\"} #added stop words \n",
    "\n",
    "for i in dfs: \n",
    "\n",
    "    names_low = i[\"name\"].values\n",
    "\n",
    "    clean_named = (' '.join(str(n).lower() for n in names_low) )\n",
    "\n",
    "    name = nlp(clean_named) #tokinzed name\n",
    "\n",
    "    filtered_name = []\n",
    "\n",
    "    # filtering name from stop words\n",
    "    for word in name:\n",
    "        if word.is_stop==False and word.is_punct==False: #takes out punctuation \n",
    "            filtered_name.append(word)\n",
    "\n",
    "    name_clean = ' '.join([str(w).lower() for w in filtered_name])\n",
    "\n",
    "    names_c.append(name_clean)\n",
    "\n",
    "#find most frequent words \n",
    "names_c\n",
    "#create histogram plots and two way histogram plots \n",
    "# from collections import Counter\n",
    "\n",
    "# def plot_names(names): \n",
    "#     split_it = names.split()\n",
    "#     counts = Counter(split_it)\n",
    "#     # most_common() produces k frequently encountered\n",
    "#     # input values and their respective counts.\n",
    "#     most_occur = counts.most_common(20)\n",
    "#     most_df = pd.DataFrame(most_occur, columns =['Words', 'Freq'])\n",
    "#     plt.figure()\n",
    "#     sns.barplot(y=\"Words\", x=\"Freq\", data=most_df)\n",
    "\n",
    "\n",
    "# #CREATES THE PLOTS\n",
    "# for n in names_c: \n",
    "#     plot_names(n)\n",
    "\n",
    "\n",
    "#WORDS CLOUDS\n",
    "\n",
    "# wordcloud = WordCloud(width = 1200, height = 600,\n",
    "#                 background_color ='white',\n",
    "#                 min_font_size = 10).generate(name_clean)\n",
    "\n",
    "# # plot the WordCloud image                       \n",
    "# plt.figure(figsize = (8, 8), facecolor = None)\n",
    "# plt.imshow(wordcloud)\n",
    "# plt.axis(\"off\")\n",
    "# plt.tight_layout(pad = 0)\n",
    "# plt.show()"
   ]
  },
  {
   "cell_type": "code",
   "execution_count": null,
   "metadata": {},
   "outputs": [],
   "source": [
    "dfs_p = [df_p_low, df_p_mid, df_p_high, df_p_extra]\n",
    "\n",
    "names_cp = [] #list of all the names as strings\n",
    "\n",
    "nlp = English()\n",
    "\n",
    "nlp.Defaults.stop_words |= {\"room\", \"bedroom\", \"apartment\", \"apt\"} #added stop words \n",
    "\n",
    "for i in dfs_p:\n",
    "\n",
    "    names_low = i[\"name\"].values\n",
    "\n",
    "    clean_named = (' '.join(str(n).lower() for n in names_low) )\n",
    "\n",
    "    name = nlp(clean_named) #tokinzed name\n",
    "\n",
    "    filtered_name = []\n",
    "\n",
    "    # filtering name from stop words\n",
    "    for word in name:\n",
    "        if word.is_stop==False and word.is_punct==False: #takes out punctuation \n",
    "            filtered_name.append(word)\n",
    "\n",
    "    name_clean = ' '.join([str(w).lower() for w in filtered_name])\n",
    "\n",
    "    names_cp.append(name_clean)\n",
    "\n",
    "    #find most frequent words \n",
    "\n",
    "names_cp\n",
    "# #create histogram plots and two way histogram plots \n",
    "# from collections import Counter\n",
    "\n",
    "lowp = names_cp[0].split()\n",
    "countlowp = Counter(lowp)\n",
    "countlowp50 = countlowp.most_common(50)\n",
    "lowpdf = pd.DataFrame(countlowp50, columns =['Words', 'Freq'])\n",
    "\n",
    "midp = names_cp[1].split()\n",
    "countmidp = Counter(midp) \n",
    "countmidp50 = countlowp.most_common(50)\n",
    "midpdf = pd.DataFrame(countmidp50, columns =['Words', 'Freq'])\n",
    "\n",
    "highp = names_cp[2].split()\n",
    "counthighp = Counter(highp)\n",
    "counthighp50 = counthighp.most_common(50)\n",
    "highpdf = pd.DataFrame(counthighp50, columns =['Words', 'Freq']) \n",
    "\n",
    "extp = names_cp[3].split()\n",
    "countextp = Counter(extp) \n",
    "countextp50 = countextp.most_common(50)\n",
    "extpdf = pd.DataFrame(countextp50, columns =['Words', 'Freq'])\n",
    "\n",
    "asd1 = pd.merge(lowdf,midpdf,on='Words',how='outer')\n",
    "asd2 = pd.merge(asd1,highpdf,on='Words',how='outer')\n",
    "asd3 = pd.merge(asd2,extpdf,on='Words',how='outer')\n",
    "\n",
    "asd3\n",
    "\n",
    "\n",
    "# def plot_names_perc(names): \n",
    "#     split_it = names.split()\n",
    "#     counts = Counter(split_it)\n",
    "#     # most_common() produces k frequently encountered\n",
    "#     # input values and their respective counts.\n",
    "#     most_occur = counts.most_common(20)\n",
    "#     most_df = pd.DataFrame(most_occur, columns =['Words', 'Freq'])\n",
    "#     plt.figure()\n",
    "#     sns.barplot(y=\"Words\", x=\"Freq\", data=most_df)\n",
    "\n",
    "# # for n in names_c: \n",
    "# #     plot_names_perc(n)"
   ]
  },
  {
   "cell_type": "code",
   "execution_count": null,
   "metadata": {},
   "outputs": [],
   "source": [
    "#TFDIF , bag of words\n",
    "\n",
    "#Parts of speech \n",
    "\n",
    "#Detecting language\n",
    "\n",
    "#Plotting on map where the non english listing are \n",
    "\n",
    "#need to get the two way histogram for that\n",
    "\n",
    "# Number of review, reviews per month, avalibilty 365. \n",
    "### How to develope a score for  popularity. \n",
    "\n",
    "#Default a reviews per month "
   ]
  },
  {
   "cell_type": "code",
   "execution_count": null,
   "metadata": {},
   "outputs": [],
   "source": [
    "import nltk\n",
    "nltk.download(\"punkt\")\n",
    "from nltk.tokenize import word_tokenize\n",
    "import string"
   ]
  },
  {
   "cell_type": "markdown",
   "metadata": {},
   "source": [
    "### Other way to clean the names"
   ]
  },
  {
   "cell_type": "code",
   "execution_count": null,
   "metadata": {},
   "outputs": [],
   "source": [
    "cleaned_names = []\n",
    "\n",
    "\n",
    "for i in list(df_r_extra[\"name\"].values):\n",
    "    text_tokens = word_tokenize(str(i).lower())\n",
    "    clean_toks = [word for word in text_tokens if word not in nlp.Defaults.stop_words and word not in string.punctuation]\n",
    "    i = ' '.join([str(n) for n in clean_toks])\n",
    "    cleaned_names.append(i)"
   ]
  },
  {
   "cell_type": "code",
   "execution_count": null,
   "metadata": {},
   "outputs": [],
   "source": [
    "cleaned_names"
   ]
  },
  {
   "cell_type": "code",
   "execution_count": null,
   "metadata": {},
   "outputs": [],
   "source": [
    "from sklearn.feature_extraction.text import TfidfVectorizer\n",
    "\n",
    "import multiprocessing\n",
    "import pandas as pd\n",
    "import numpy as np\n",
    "from multiprocessing import Pool\n",
    "import scipy.sparse as sp\n",
    "\n",
    "num_cores = multiprocessing.cpu_count()\n",
    "num_partitions = num_cores-2 # I like to leave some cores for other\n",
    "#processes\n",
    "print(num_partitions)\n",
    "\n",
    "def parallelize_dataframe(df, func):\n",
    "    a = np.array_split(df, num_partitions)\n",
    "    del df\n",
    "    pool = Pool(num_cores)\n",
    "    #df = pd.concat(pool.map(func, [a,b,c,d,e]))\n",
    "    df = sp.vstack(pool.map(func, a), format='csr')\n",
    "    pool.close()\n",
    "    pool.join()\n",
    "    return df\n",
    "\n",
    "def test_func(data):\n",
    "    #print(\"Process working on: \",data)\n",
    "    tfidf_matrix = TfidfVectorizer.transform(data[\"text\"])\n",
    "    #return pd.DataFrame(tfidf_matrix.toarray())\n",
    "    return tfidf_matrix\n",
    "\n",
    "#df = pd.DataFrame({'col': [0,1,2,3,4,5,6,7,8,9]})\n",
    "#df =  data_pd\n",
    "tf_idf = parallelize_dataframe(cleaned_names, test_func)\n",
    "\n",
    "\n",
    "\n",
    "#tf_idf = TfidfVectorizer().fit_transform(cleaned_names)\n",
    "\n",
    "# Use .A to display a sparse matrix.\n",
    "(tf_idf * tf_idf.T).A"
   ]
  },
  {
   "cell_type": "code",
   "execution_count": null,
   "metadata": {},
   "outputs": [],
   "source": [
    "from textblob import TextBlob\n",
    "\n",
    "docs_df = pd.DataFrame(TextBlob(d).word_counts for d in cleaned_names).T\n",
    "docs_df = docs_df.fillna(0)\n",
    "docs_df.head()\n",
    "\n",
    "tf = docs_df / docs_df.sum()\n",
    "tf.head()"
   ]
  },
  {
   "cell_type": "code",
   "execution_count": null,
   "metadata": {},
   "outputs": [],
   "source": [
    "#Finding non alphabet characters \n",
    "\n",
    "noneng = []\n",
    "\n",
    "\n",
    "for i in list(df[\"name\"].values): \n",
    "    a = str(i)\n",
    "    if a.isascii():\n",
    "        continue\n",
    "    else: \n",
    "        noneng.append(i)\n",
    "  \n",
    "\n",
    "len(noneng)"
   ]
  },
  {
   "cell_type": "code",
   "execution_count": null,
   "metadata": {},
   "outputs": [],
   "source": [
    "noneng"
   ]
  },
  {
   "cell_type": "code",
   "execution_count": null,
   "metadata": {},
   "outputs": [],
   "source": [
    "import re\n",
    "\n",
    "chineseLists = []\n",
    "\n",
    "def isChinese(s):\n",
    "    s = str(s)\n",
    "    if len(re.findall(r'[\\u4e00-\\u9fff]+', s))>0:\n",
    "        return True\n",
    "    return False\n",
    "\n",
    "for i in noneng: \n",
    "    a = str(i)\n",
    "    if isChinese(a): chineseLists.append(i)\n",
    "\n",
    "chineseLists\n",
    "\n",
    "\n",
    "# sample = '法拉盛中心温馨两房两厅公寓｡近一切｡2 br close to everything'\n",
    "# re.findall(r'[\\u4e00-\\u9fff]+', sample)"
   ]
  },
  {
   "cell_type": "code",
   "execution_count": null,
   "metadata": {},
   "outputs": [],
   "source": [
    "from emoji import UNICODE_EMOJI\n",
    "\n",
    "emojiLists = []\n",
    "\n",
    "def is_emoji(s):\n",
    "    s = str(s)\n",
    "    count = 0\n",
    "    for emoji in UNICODE_EMOJI:\n",
    "        count += s.count(emoji)\n",
    "        if count > 1:\n",
    "            return False\n",
    "    return bool(count)\n",
    "\n",
    "\n",
    "for i in noneng: \n",
    "    a = str(i)\n",
    "    if is_emoji(a): emojiLists.append(i)\n",
    "\n",
    "emojiLists\n",
    "\n",
    "\n",
    "\n",
    "# sample = '法拉盛中心温馨两房两厅公寓｡近一切｡2 br close to everything'\n",
    "# re.findall(r'[\\u4e00-\\u9fff]+', sample)"
   ]
  },
  {
   "cell_type": "code",
   "execution_count": null,
   "metadata": {},
   "outputs": [],
   "source": [
    "chinese_index = []\n",
    "emoji_index = []\n",
    "\n",
    "for i in list(df[\"name\"].values): \n",
    "    a = str(i)\n",
    "    if is_emoji(a) and not a.isascii() :\n",
    "        emoji_index.append(True)\n",
    "    else: \n",
    "        emoji_index.append(False)\n",
    "\n",
    "for i in list(df[\"name\"].values): \n",
    "    a = str(i)\n",
    "    if isChinese(a) and not a.isascii() :\n",
    "        chinese_index.append(True)\n",
    "    else: \n",
    "        chinese_index.append(False)\n",
    "\n",
    "df_noneng = df[chinese_index]\n",
    "df_emoji = df[emoji_index] #logical indexing"
   ]
  },
  {
   "cell_type": "markdown",
   "metadata": {},
   "source": [
    "Density Map of Listings with Emojis"
   ]
  },
  {
   "cell_type": "code",
   "execution_count": null,
   "metadata": {},
   "outputs": [],
   "source": [
    "plt.figure(figsize=(15,30))\n",
    "sns_map_emoji = sns.scatterplot(x='longitude', y='latitude',s=20, data=df_emoji)\n",
    "ctx.add_basemap(sns_map_emoji, crs = 'EPSG:4326', source=ctx.providers.CartoDB.Positron)\n",
    "sns_map_emoji.set_axis_off()"
   ]
  },
  {
   "cell_type": "code",
   "execution_count": null,
   "metadata": {},
   "outputs": [],
   "source": [
    "name = \"t #**3131 #s\"\n",
    "\n",
    "\n",
    "a = '❤️lovely historic brownstone charm❤️ legal listing'\n",
    "b = '★★★★★- lux astoria |❤of nyc| near subway/manhattan'\n",
    "c = '纽约之家'\n",
    "d= 0.13124134134234\n",
    "\n",
    "str(d).isascii()\n",
    "\n",
    "\n",
    "\n",
    "#list(df_r_extra['name'].values)"
   ]
  },
  {
   "cell_type": "markdown",
   "metadata": {},
   "source": [
    "Density Map for Non-English Listings"
   ]
  },
  {
   "cell_type": "code",
   "execution_count": null,
   "metadata": {},
   "outputs": [],
   "source": [
    "plt.figure(figsize=(15,30))\n",
    "sns_map_noneng = sns.scatterplot(x='longitude', y='latitude',s=20, data=df_noneng)\n",
    "ctx.add_basemap(sns_map_noneng, crs = 'EPSG:4326', source=ctx.providers.CartoDB.Positron)\n",
    "sns_map_noneng.set_axis_off()"
   ]
  },
  {
   "cell_type": "code",
   "execution_count": null,
   "metadata": {},
   "outputs": [],
   "source": [
    "sns.countplot(y = 'neighbourhood_group', data= df_noneng).set_title(\"Listings by Borough for Noneng\")"
   ]
  },
  {
   "cell_type": "code",
   "execution_count": null,
   "metadata": {},
   "outputs": [],
   "source": [
    "sns.countplot(y = 'neighbourhood', data= df_noneng).set_title(\"Listings by Borough for Noneng\")"
   ]
  },
  {
   "cell_type": "code",
   "execution_count": null,
   "metadata": {},
   "outputs": [],
   "source": [
    "df_noneng"
   ]
  },
  {
   "cell_type": "code",
   "execution_count": null,
   "metadata": {},
   "outputs": [],
   "source": [
    "sns.countplot(y = 'host_name', data= df_noneng).set_title(\"Host Name for Noneng\")"
   ]
  },
  {
   "cell_type": "code",
   "execution_count": null,
   "metadata": {},
   "outputs": [],
   "source": [
    "px.histogram(tidydf, x = 'price', title = 'Total Price Distribution')"
   ]
  },
  {
   "cell_type": "code",
   "execution_count": null,
   "metadata": {},
   "outputs": [],
   "source": [
    "px.histogram(df_noneng, x = 'price', title = 'Non eng Price Distribution')"
   ]
  },
  {
   "cell_type": "code",
   "execution_count": null,
   "metadata": {},
   "outputs": [],
   "source": [
    "df_noneng"
   ]
  },
  {
   "cell_type": "code",
   "execution_count": null,
   "metadata": {},
   "outputs": [],
   "source": []
  },
  {
   "cell_type": "code",
   "execution_count": null,
   "metadata": {},
   "outputs": [],
   "source": []
  },
  {
   "cell_type": "markdown",
   "metadata": {},
   "source": [
    "## Other research questions:\n",
    "\n",
    "Predicting Airbnb Prices with separate features and past data?\n",
    "\n",
    "Is there a way to find the most optimal listing for a trip?\n",
    "\n",
    "Want to buy a property using airbnb data which one will bring in the most profit depending on the existing data?"
   ]
  }
 ],
 "metadata": {
  "kernelspec": {
   "display_name": "Python 3",
   "language": "python",
   "name": "python3"
  },
  "language_info": {
   "codemirror_mode": {
    "name": "ipython",
    "version": 3
   },
   "file_extension": ".py",
   "mimetype": "text/x-python",
   "name": "python",
   "nbconvert_exporter": "python",
   "pygments_lexer": "ipython3",
   "version": "3.7.6"
  }
 },
 "nbformat": 4,
 "nbformat_minor": 1
}
